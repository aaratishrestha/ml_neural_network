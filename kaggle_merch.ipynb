{
  "nbformat": 4,
  "nbformat_minor": 0,
  "metadata": {
    "colab": {
      "provenance": [],
      "collapsed_sections": [],
      "include_colab_link": true
    },
    "kernelspec": {
      "name": "python3",
      "display_name": "Python 3"
    },
    "language_info": {
      "name": "python"
    }
  },
  "cells": [
    {
      "cell_type": "markdown",
      "metadata": {
        "id": "view-in-github",
        "colab_type": "text"
      },
      "source": [
        "<a href=\"https://colab.research.google.com/github/aaratishrestha/ml_neural_network/blob/main/kaggle_merch.ipynb\" target=\"_parent\"><img src=\"https://colab.research.google.com/assets/colab-badge.svg\" alt=\"Open In Colab\"/></a>"
      ]
    },
    {
      "cell_type": "code",
      "execution_count": 24,
      "metadata": {
        "id": "xHQMEaUGhU9Q"
      },
      "outputs": [],
      "source": [
        "import pandas as pd"
      ]
    },
    {
      "cell_type": "code",
      "source": [
        "from pydrive.auth import GoogleAuth\n",
        "from pydrive.drive import GoogleDrive\n",
        "from google.colab import auth\n",
        "from oauth2client.client import GoogleCredentials"
      ],
      "metadata": {
        "id": "7NgervQ96iIL"
      },
      "execution_count": 25,
      "outputs": []
    },
    {
      "cell_type": "code",
      "source": [
        "auth.authenticate_user()\n",
        "gauth = GoogleAuth()\n",
        "gauth.credentials = GoogleCredentials.get_application_default()\n",
        "drive = GoogleDrive(gauth)"
      ],
      "metadata": {
        "id": "wdU4JlO06j9G"
      },
      "execution_count": 26,
      "outputs": []
    },
    {
      "cell_type": "code",
      "source": [
        "fileDownloaded = drive.CreateFile({'id':'1NUPn3SDU7aSw0LLc1DTa5x_WVKb4zcu2'})"
      ],
      "metadata": {
        "id": "N3S35-dW6p_x"
      },
      "execution_count": 27,
      "outputs": []
    },
    {
      "cell_type": "code",
      "source": [
        "fileDownloaded.GetContentFile('train.csv')"
      ],
      "metadata": {
        "id": "UJZehoFG7jEX"
      },
      "execution_count": 28,
      "outputs": []
    },
    {
      "cell_type": "code",
      "source": [
        "df = pd.read_csv('train.csv')\n",
        "df.head()"
      ],
      "metadata": {
        "id": "RjXXmcw_hndH",
        "colab": {
          "base_uri": "https://localhost:8080/",
          "height": 206
        },
        "outputId": "df8561df-2067-4ff4-d71a-f92d9f5f917b"
      },
      "execution_count": 29,
      "outputs": [
        {
          "output_type": "execute_result",
          "data": {
            "text/plain": [
              "   row_id        date  country       store         product  num_sold\n",
              "0       0  2015-01-01  Finland  KaggleMart      Kaggle Mug       329\n",
              "1       1  2015-01-01  Finland  KaggleMart      Kaggle Hat       520\n",
              "2       2  2015-01-01  Finland  KaggleMart  Kaggle Sticker       146\n",
              "3       3  2015-01-01  Finland  KaggleRama      Kaggle Mug       572\n",
              "4       4  2015-01-01  Finland  KaggleRama      Kaggle Hat       911"
            ],
            "text/html": [
              "\n",
              "  <div id=\"df-b8edd447-69fb-4ff4-8b8a-0cfeeeb76936\">\n",
              "    <div class=\"colab-df-container\">\n",
              "      <div>\n",
              "<style scoped>\n",
              "    .dataframe tbody tr th:only-of-type {\n",
              "        vertical-align: middle;\n",
              "    }\n",
              "\n",
              "    .dataframe tbody tr th {\n",
              "        vertical-align: top;\n",
              "    }\n",
              "\n",
              "    .dataframe thead th {\n",
              "        text-align: right;\n",
              "    }\n",
              "</style>\n",
              "<table border=\"1\" class=\"dataframe\">\n",
              "  <thead>\n",
              "    <tr style=\"text-align: right;\">\n",
              "      <th></th>\n",
              "      <th>row_id</th>\n",
              "      <th>date</th>\n",
              "      <th>country</th>\n",
              "      <th>store</th>\n",
              "      <th>product</th>\n",
              "      <th>num_sold</th>\n",
              "    </tr>\n",
              "  </thead>\n",
              "  <tbody>\n",
              "    <tr>\n",
              "      <th>0</th>\n",
              "      <td>0</td>\n",
              "      <td>2015-01-01</td>\n",
              "      <td>Finland</td>\n",
              "      <td>KaggleMart</td>\n",
              "      <td>Kaggle Mug</td>\n",
              "      <td>329</td>\n",
              "    </tr>\n",
              "    <tr>\n",
              "      <th>1</th>\n",
              "      <td>1</td>\n",
              "      <td>2015-01-01</td>\n",
              "      <td>Finland</td>\n",
              "      <td>KaggleMart</td>\n",
              "      <td>Kaggle Hat</td>\n",
              "      <td>520</td>\n",
              "    </tr>\n",
              "    <tr>\n",
              "      <th>2</th>\n",
              "      <td>2</td>\n",
              "      <td>2015-01-01</td>\n",
              "      <td>Finland</td>\n",
              "      <td>KaggleMart</td>\n",
              "      <td>Kaggle Sticker</td>\n",
              "      <td>146</td>\n",
              "    </tr>\n",
              "    <tr>\n",
              "      <th>3</th>\n",
              "      <td>3</td>\n",
              "      <td>2015-01-01</td>\n",
              "      <td>Finland</td>\n",
              "      <td>KaggleRama</td>\n",
              "      <td>Kaggle Mug</td>\n",
              "      <td>572</td>\n",
              "    </tr>\n",
              "    <tr>\n",
              "      <th>4</th>\n",
              "      <td>4</td>\n",
              "      <td>2015-01-01</td>\n",
              "      <td>Finland</td>\n",
              "      <td>KaggleRama</td>\n",
              "      <td>Kaggle Hat</td>\n",
              "      <td>911</td>\n",
              "    </tr>\n",
              "  </tbody>\n",
              "</table>\n",
              "</div>\n",
              "      <button class=\"colab-df-convert\" onclick=\"convertToInteractive('df-b8edd447-69fb-4ff4-8b8a-0cfeeeb76936')\"\n",
              "              title=\"Convert this dataframe to an interactive table.\"\n",
              "              style=\"display:none;\">\n",
              "        \n",
              "  <svg xmlns=\"http://www.w3.org/2000/svg\" height=\"24px\"viewBox=\"0 0 24 24\"\n",
              "       width=\"24px\">\n",
              "    <path d=\"M0 0h24v24H0V0z\" fill=\"none\"/>\n",
              "    <path d=\"M18.56 5.44l.94 2.06.94-2.06 2.06-.94-2.06-.94-.94-2.06-.94 2.06-2.06.94zm-11 1L8.5 8.5l.94-2.06 2.06-.94-2.06-.94L8.5 2.5l-.94 2.06-2.06.94zm10 10l.94 2.06.94-2.06 2.06-.94-2.06-.94-.94-2.06-.94 2.06-2.06.94z\"/><path d=\"M17.41 7.96l-1.37-1.37c-.4-.4-.92-.59-1.43-.59-.52 0-1.04.2-1.43.59L10.3 9.45l-7.72 7.72c-.78.78-.78 2.05 0 2.83L4 21.41c.39.39.9.59 1.41.59.51 0 1.02-.2 1.41-.59l7.78-7.78 2.81-2.81c.8-.78.8-2.07 0-2.86zM5.41 20L4 18.59l7.72-7.72 1.47 1.35L5.41 20z\"/>\n",
              "  </svg>\n",
              "      </button>\n",
              "      \n",
              "  <style>\n",
              "    .colab-df-container {\n",
              "      display:flex;\n",
              "      flex-wrap:wrap;\n",
              "      gap: 12px;\n",
              "    }\n",
              "\n",
              "    .colab-df-convert {\n",
              "      background-color: #E8F0FE;\n",
              "      border: none;\n",
              "      border-radius: 50%;\n",
              "      cursor: pointer;\n",
              "      display: none;\n",
              "      fill: #1967D2;\n",
              "      height: 32px;\n",
              "      padding: 0 0 0 0;\n",
              "      width: 32px;\n",
              "    }\n",
              "\n",
              "    .colab-df-convert:hover {\n",
              "      background-color: #E2EBFA;\n",
              "      box-shadow: 0px 1px 2px rgba(60, 64, 67, 0.3), 0px 1px 3px 1px rgba(60, 64, 67, 0.15);\n",
              "      fill: #174EA6;\n",
              "    }\n",
              "\n",
              "    [theme=dark] .colab-df-convert {\n",
              "      background-color: #3B4455;\n",
              "      fill: #D2E3FC;\n",
              "    }\n",
              "\n",
              "    [theme=dark] .colab-df-convert:hover {\n",
              "      background-color: #434B5C;\n",
              "      box-shadow: 0px 1px 3px 1px rgba(0, 0, 0, 0.15);\n",
              "      filter: drop-shadow(0px 1px 2px rgba(0, 0, 0, 0.3));\n",
              "      fill: #FFFFFF;\n",
              "    }\n",
              "  </style>\n",
              "\n",
              "      <script>\n",
              "        const buttonEl =\n",
              "          document.querySelector('#df-b8edd447-69fb-4ff4-8b8a-0cfeeeb76936 button.colab-df-convert');\n",
              "        buttonEl.style.display =\n",
              "          google.colab.kernel.accessAllowed ? 'block' : 'none';\n",
              "\n",
              "        async function convertToInteractive(key) {\n",
              "          const element = document.querySelector('#df-b8edd447-69fb-4ff4-8b8a-0cfeeeb76936');\n",
              "          const dataTable =\n",
              "            await google.colab.kernel.invokeFunction('convertToInteractive',\n",
              "                                                     [key], {});\n",
              "          if (!dataTable) return;\n",
              "\n",
              "          const docLinkHtml = 'Like what you see? Visit the ' +\n",
              "            '<a target=\"_blank\" href=https://colab.research.google.com/notebooks/data_table.ipynb>data table notebook</a>'\n",
              "            + ' to learn more about interactive tables.';\n",
              "          element.innerHTML = '';\n",
              "          dataTable['output_type'] = 'display_data';\n",
              "          await google.colab.output.renderOutput(dataTable, element);\n",
              "          const docLink = document.createElement('div');\n",
              "          docLink.innerHTML = docLinkHtml;\n",
              "          element.appendChild(docLink);\n",
              "        }\n",
              "      </script>\n",
              "    </div>\n",
              "  </div>\n",
              "  "
            ]
          },
          "metadata": {},
          "execution_count": 29
        }
      ]
    },
    {
      "cell_type": "code",
      "source": [
        "df.shape"
      ],
      "metadata": {
        "colab": {
          "base_uri": "https://localhost:8080/"
        },
        "id": "g8IYm_AuVFeW",
        "outputId": "f48fa84f-ed21-45ff-fcbd-9cf137b2d2ae"
      },
      "execution_count": 30,
      "outputs": [
        {
          "output_type": "execute_result",
          "data": {
            "text/plain": [
              "(26298, 6)"
            ]
          },
          "metadata": {},
          "execution_count": 30
        }
      ]
    },
    {
      "cell_type": "code",
      "source": [
        "df.isna().sum()"
      ],
      "metadata": {
        "colab": {
          "base_uri": "https://localhost:8080/"
        },
        "id": "nRAcrEQEVHoX",
        "outputId": "aeec97e3-29ef-4690-ca96-1a0dfc384876"
      },
      "execution_count": 31,
      "outputs": [
        {
          "output_type": "execute_result",
          "data": {
            "text/plain": [
              "row_id      0\n",
              "date        0\n",
              "country     0\n",
              "store       0\n",
              "product     0\n",
              "num_sold    0\n",
              "dtype: int64"
            ]
          },
          "metadata": {},
          "execution_count": 31
        }
      ]
    },
    {
      "cell_type": "code",
      "source": [
        "df.dropna(inplace = True)"
      ],
      "metadata": {
        "id": "m7lDLhh1VMBX"
      },
      "execution_count": 32,
      "outputs": []
    },
    {
      "cell_type": "code",
      "source": [
        "df.shape"
      ],
      "metadata": {
        "id": "JUhJao4pQ6cX",
        "colab": {
          "base_uri": "https://localhost:8080/"
        },
        "outputId": "f820ef5c-665d-4be9-f89f-726e9223e950"
      },
      "execution_count": 33,
      "outputs": [
        {
          "output_type": "execute_result",
          "data": {
            "text/plain": [
              "(26298, 6)"
            ]
          },
          "metadata": {},
          "execution_count": 33
        }
      ]
    },
    {
      "cell_type": "code",
      "source": [
        "\n",
        "date_split = df[\"date\"].str.split(\"-\", n = 2, expand = False)\n",
        "# regex for date - x=re.search(\"^([1-9] |1[0-9]| 2[0-9]|3[0-1])(.|-)([1-9] |1[0-2])(.|-|)20[0-9][0-9]$\",date)\n",
        "\n",
        "date_split\n",
        "year = list()\n",
        "month = list()\n",
        "day = list()\n",
        "for x in date_split:\n",
        "  year.append(int(x[0]))\n",
        "  month.append(int(x[1]))\n",
        "  day.append(int(x[2]))\n",
        "\n",
        "df['year'] = year\n",
        "df['month'] = month\n",
        "df['day'] = day\n",
        "df.head()"
      ],
      "metadata": {
        "colab": {
          "base_uri": "https://localhost:8080/",
          "height": 206
        },
        "id": "0NlQzBgQkxbY",
        "outputId": "c2f9cd78-c867-47ec-8a31-f4b1ca266530"
      },
      "execution_count": null,
      "outputs": [
        {
          "output_type": "execute_result",
          "data": {
            "text/plain": [
              "   row_id        date  country       store         product  num_sold  year  \\\n",
              "0       0  2015-01-01  Finland  KaggleMart      Kaggle Mug       329  2015   \n",
              "1       1  2015-01-01  Finland  KaggleMart      Kaggle Hat       520  2015   \n",
              "2       2  2015-01-01  Finland  KaggleMart  Kaggle Sticker       146  2015   \n",
              "3       3  2015-01-01  Finland  KaggleRama      Kaggle Mug       572  2015   \n",
              "4       4  2015-01-01  Finland  KaggleRama      Kaggle Hat       911  2015   \n",
              "\n",
              "   month  day  \n",
              "0      1    1  \n",
              "1      1    1  \n",
              "2      1    1  \n",
              "3      1    1  \n",
              "4      1    1  "
            ],
            "text/html": [
              "\n",
              "  <div id=\"df-92e6caff-fc5a-48fc-9567-16067423b360\">\n",
              "    <div class=\"colab-df-container\">\n",
              "      <div>\n",
              "<style scoped>\n",
              "    .dataframe tbody tr th:only-of-type {\n",
              "        vertical-align: middle;\n",
              "    }\n",
              "\n",
              "    .dataframe tbody tr th {\n",
              "        vertical-align: top;\n",
              "    }\n",
              "\n",
              "    .dataframe thead th {\n",
              "        text-align: right;\n",
              "    }\n",
              "</style>\n",
              "<table border=\"1\" class=\"dataframe\">\n",
              "  <thead>\n",
              "    <tr style=\"text-align: right;\">\n",
              "      <th></th>\n",
              "      <th>row_id</th>\n",
              "      <th>date</th>\n",
              "      <th>country</th>\n",
              "      <th>store</th>\n",
              "      <th>product</th>\n",
              "      <th>num_sold</th>\n",
              "      <th>year</th>\n",
              "      <th>month</th>\n",
              "      <th>day</th>\n",
              "    </tr>\n",
              "  </thead>\n",
              "  <tbody>\n",
              "    <tr>\n",
              "      <th>0</th>\n",
              "      <td>0</td>\n",
              "      <td>2015-01-01</td>\n",
              "      <td>Finland</td>\n",
              "      <td>KaggleMart</td>\n",
              "      <td>Kaggle Mug</td>\n",
              "      <td>329</td>\n",
              "      <td>2015</td>\n",
              "      <td>1</td>\n",
              "      <td>1</td>\n",
              "    </tr>\n",
              "    <tr>\n",
              "      <th>1</th>\n",
              "      <td>1</td>\n",
              "      <td>2015-01-01</td>\n",
              "      <td>Finland</td>\n",
              "      <td>KaggleMart</td>\n",
              "      <td>Kaggle Hat</td>\n",
              "      <td>520</td>\n",
              "      <td>2015</td>\n",
              "      <td>1</td>\n",
              "      <td>1</td>\n",
              "    </tr>\n",
              "    <tr>\n",
              "      <th>2</th>\n",
              "      <td>2</td>\n",
              "      <td>2015-01-01</td>\n",
              "      <td>Finland</td>\n",
              "      <td>KaggleMart</td>\n",
              "      <td>Kaggle Sticker</td>\n",
              "      <td>146</td>\n",
              "      <td>2015</td>\n",
              "      <td>1</td>\n",
              "      <td>1</td>\n",
              "    </tr>\n",
              "    <tr>\n",
              "      <th>3</th>\n",
              "      <td>3</td>\n",
              "      <td>2015-01-01</td>\n",
              "      <td>Finland</td>\n",
              "      <td>KaggleRama</td>\n",
              "      <td>Kaggle Mug</td>\n",
              "      <td>572</td>\n",
              "      <td>2015</td>\n",
              "      <td>1</td>\n",
              "      <td>1</td>\n",
              "    </tr>\n",
              "    <tr>\n",
              "      <th>4</th>\n",
              "      <td>4</td>\n",
              "      <td>2015-01-01</td>\n",
              "      <td>Finland</td>\n",
              "      <td>KaggleRama</td>\n",
              "      <td>Kaggle Hat</td>\n",
              "      <td>911</td>\n",
              "      <td>2015</td>\n",
              "      <td>1</td>\n",
              "      <td>1</td>\n",
              "    </tr>\n",
              "  </tbody>\n",
              "</table>\n",
              "</div>\n",
              "      <button class=\"colab-df-convert\" onclick=\"convertToInteractive('df-92e6caff-fc5a-48fc-9567-16067423b360')\"\n",
              "              title=\"Convert this dataframe to an interactive table.\"\n",
              "              style=\"display:none;\">\n",
              "        \n",
              "  <svg xmlns=\"http://www.w3.org/2000/svg\" height=\"24px\"viewBox=\"0 0 24 24\"\n",
              "       width=\"24px\">\n",
              "    <path d=\"M0 0h24v24H0V0z\" fill=\"none\"/>\n",
              "    <path d=\"M18.56 5.44l.94 2.06.94-2.06 2.06-.94-2.06-.94-.94-2.06-.94 2.06-2.06.94zm-11 1L8.5 8.5l.94-2.06 2.06-.94-2.06-.94L8.5 2.5l-.94 2.06-2.06.94zm10 10l.94 2.06.94-2.06 2.06-.94-2.06-.94-.94-2.06-.94 2.06-2.06.94z\"/><path d=\"M17.41 7.96l-1.37-1.37c-.4-.4-.92-.59-1.43-.59-.52 0-1.04.2-1.43.59L10.3 9.45l-7.72 7.72c-.78.78-.78 2.05 0 2.83L4 21.41c.39.39.9.59 1.41.59.51 0 1.02-.2 1.41-.59l7.78-7.78 2.81-2.81c.8-.78.8-2.07 0-2.86zM5.41 20L4 18.59l7.72-7.72 1.47 1.35L5.41 20z\"/>\n",
              "  </svg>\n",
              "      </button>\n",
              "      \n",
              "  <style>\n",
              "    .colab-df-container {\n",
              "      display:flex;\n",
              "      flex-wrap:wrap;\n",
              "      gap: 12px;\n",
              "    }\n",
              "\n",
              "    .colab-df-convert {\n",
              "      background-color: #E8F0FE;\n",
              "      border: none;\n",
              "      border-radius: 50%;\n",
              "      cursor: pointer;\n",
              "      display: none;\n",
              "      fill: #1967D2;\n",
              "      height: 32px;\n",
              "      padding: 0 0 0 0;\n",
              "      width: 32px;\n",
              "    }\n",
              "\n",
              "    .colab-df-convert:hover {\n",
              "      background-color: #E2EBFA;\n",
              "      box-shadow: 0px 1px 2px rgba(60, 64, 67, 0.3), 0px 1px 3px 1px rgba(60, 64, 67, 0.15);\n",
              "      fill: #174EA6;\n",
              "    }\n",
              "\n",
              "    [theme=dark] .colab-df-convert {\n",
              "      background-color: #3B4455;\n",
              "      fill: #D2E3FC;\n",
              "    }\n",
              "\n",
              "    [theme=dark] .colab-df-convert:hover {\n",
              "      background-color: #434B5C;\n",
              "      box-shadow: 0px 1px 3px 1px rgba(0, 0, 0, 0.15);\n",
              "      filter: drop-shadow(0px 1px 2px rgba(0, 0, 0, 0.3));\n",
              "      fill: #FFFFFF;\n",
              "    }\n",
              "  </style>\n",
              "\n",
              "      <script>\n",
              "        const buttonEl =\n",
              "          document.querySelector('#df-92e6caff-fc5a-48fc-9567-16067423b360 button.colab-df-convert');\n",
              "        buttonEl.style.display =\n",
              "          google.colab.kernel.accessAllowed ? 'block' : 'none';\n",
              "\n",
              "        async function convertToInteractive(key) {\n",
              "          const element = document.querySelector('#df-92e6caff-fc5a-48fc-9567-16067423b360');\n",
              "          const dataTable =\n",
              "            await google.colab.kernel.invokeFunction('convertToInteractive',\n",
              "                                                     [key], {});\n",
              "          if (!dataTable) return;\n",
              "\n",
              "          const docLinkHtml = 'Like what you see? Visit the ' +\n",
              "            '<a target=\"_blank\" href=https://colab.research.google.com/notebooks/data_table.ipynb>data table notebook</a>'\n",
              "            + ' to learn more about interactive tables.';\n",
              "          element.innerHTML = '';\n",
              "          dataTable['output_type'] = 'display_data';\n",
              "          await google.colab.output.renderOutput(dataTable, element);\n",
              "          const docLink = document.createElement('div');\n",
              "          docLink.innerHTML = docLinkHtml;\n",
              "          element.appendChild(docLink);\n",
              "        }\n",
              "      </script>\n",
              "    </div>\n",
              "  </div>\n",
              "  "
            ]
          },
          "metadata": {},
          "execution_count": 8
        }
      ]
    },
    {
      "cell_type": "code",
      "source": [
        "df.to_csv('data_by_day.csv')"
      ],
      "metadata": {
        "id": "S9Jcc4979-Jk"
      },
      "execution_count": null,
      "outputs": []
    },
    {
      "cell_type": "code",
      "source": [
        "df.loc[df['day'].mod(7) == 0, 'week'] = df['day'].floordiv(7)\n",
        "df.loc[df['day'].mod(7) != 0, 'week'] = df['day'].floordiv(7)+1\n",
        "df['week'] = df['week'].astype('int')\n",
        "df.head()\n"
      ],
      "metadata": {
        "colab": {
          "base_uri": "https://localhost:8080/",
          "height": 206
        },
        "id": "3CiVkhe-zn5j",
        "outputId": "bad32dee-904b-42b8-8e7a-fb10cf4b9476"
      },
      "execution_count": null,
      "outputs": [
        {
          "output_type": "execute_result",
          "data": {
            "text/plain": [
              "   row_id        date  country       store         product  num_sold  year  \\\n",
              "0       0  2015-01-01  Finland  KaggleMart      Kaggle Mug       329  2015   \n",
              "1       1  2015-01-01  Finland  KaggleMart      Kaggle Hat       520  2015   \n",
              "2       2  2015-01-01  Finland  KaggleMart  Kaggle Sticker       146  2015   \n",
              "3       3  2015-01-01  Finland  KaggleRama      Kaggle Mug       572  2015   \n",
              "4       4  2015-01-01  Finland  KaggleRama      Kaggle Hat       911  2015   \n",
              "\n",
              "   month  day  week  \n",
              "0      1    1     1  \n",
              "1      1    1     1  \n",
              "2      1    1     1  \n",
              "3      1    1     1  \n",
              "4      1    1     1  "
            ],
            "text/html": [
              "\n",
              "  <div id=\"df-58a8c560-0d77-4ad4-b937-5001c3e16fd0\">\n",
              "    <div class=\"colab-df-container\">\n",
              "      <div>\n",
              "<style scoped>\n",
              "    .dataframe tbody tr th:only-of-type {\n",
              "        vertical-align: middle;\n",
              "    }\n",
              "\n",
              "    .dataframe tbody tr th {\n",
              "        vertical-align: top;\n",
              "    }\n",
              "\n",
              "    .dataframe thead th {\n",
              "        text-align: right;\n",
              "    }\n",
              "</style>\n",
              "<table border=\"1\" class=\"dataframe\">\n",
              "  <thead>\n",
              "    <tr style=\"text-align: right;\">\n",
              "      <th></th>\n",
              "      <th>row_id</th>\n",
              "      <th>date</th>\n",
              "      <th>country</th>\n",
              "      <th>store</th>\n",
              "      <th>product</th>\n",
              "      <th>num_sold</th>\n",
              "      <th>year</th>\n",
              "      <th>month</th>\n",
              "      <th>day</th>\n",
              "      <th>week</th>\n",
              "    </tr>\n",
              "  </thead>\n",
              "  <tbody>\n",
              "    <tr>\n",
              "      <th>0</th>\n",
              "      <td>0</td>\n",
              "      <td>2015-01-01</td>\n",
              "      <td>Finland</td>\n",
              "      <td>KaggleMart</td>\n",
              "      <td>Kaggle Mug</td>\n",
              "      <td>329</td>\n",
              "      <td>2015</td>\n",
              "      <td>1</td>\n",
              "      <td>1</td>\n",
              "      <td>1</td>\n",
              "    </tr>\n",
              "    <tr>\n",
              "      <th>1</th>\n",
              "      <td>1</td>\n",
              "      <td>2015-01-01</td>\n",
              "      <td>Finland</td>\n",
              "      <td>KaggleMart</td>\n",
              "      <td>Kaggle Hat</td>\n",
              "      <td>520</td>\n",
              "      <td>2015</td>\n",
              "      <td>1</td>\n",
              "      <td>1</td>\n",
              "      <td>1</td>\n",
              "    </tr>\n",
              "    <tr>\n",
              "      <th>2</th>\n",
              "      <td>2</td>\n",
              "      <td>2015-01-01</td>\n",
              "      <td>Finland</td>\n",
              "      <td>KaggleMart</td>\n",
              "      <td>Kaggle Sticker</td>\n",
              "      <td>146</td>\n",
              "      <td>2015</td>\n",
              "      <td>1</td>\n",
              "      <td>1</td>\n",
              "      <td>1</td>\n",
              "    </tr>\n",
              "    <tr>\n",
              "      <th>3</th>\n",
              "      <td>3</td>\n",
              "      <td>2015-01-01</td>\n",
              "      <td>Finland</td>\n",
              "      <td>KaggleRama</td>\n",
              "      <td>Kaggle Mug</td>\n",
              "      <td>572</td>\n",
              "      <td>2015</td>\n",
              "      <td>1</td>\n",
              "      <td>1</td>\n",
              "      <td>1</td>\n",
              "    </tr>\n",
              "    <tr>\n",
              "      <th>4</th>\n",
              "      <td>4</td>\n",
              "      <td>2015-01-01</td>\n",
              "      <td>Finland</td>\n",
              "      <td>KaggleRama</td>\n",
              "      <td>Kaggle Hat</td>\n",
              "      <td>911</td>\n",
              "      <td>2015</td>\n",
              "      <td>1</td>\n",
              "      <td>1</td>\n",
              "      <td>1</td>\n",
              "    </tr>\n",
              "  </tbody>\n",
              "</table>\n",
              "</div>\n",
              "      <button class=\"colab-df-convert\" onclick=\"convertToInteractive('df-58a8c560-0d77-4ad4-b937-5001c3e16fd0')\"\n",
              "              title=\"Convert this dataframe to an interactive table.\"\n",
              "              style=\"display:none;\">\n",
              "        \n",
              "  <svg xmlns=\"http://www.w3.org/2000/svg\" height=\"24px\"viewBox=\"0 0 24 24\"\n",
              "       width=\"24px\">\n",
              "    <path d=\"M0 0h24v24H0V0z\" fill=\"none\"/>\n",
              "    <path d=\"M18.56 5.44l.94 2.06.94-2.06 2.06-.94-2.06-.94-.94-2.06-.94 2.06-2.06.94zm-11 1L8.5 8.5l.94-2.06 2.06-.94-2.06-.94L8.5 2.5l-.94 2.06-2.06.94zm10 10l.94 2.06.94-2.06 2.06-.94-2.06-.94-.94-2.06-.94 2.06-2.06.94z\"/><path d=\"M17.41 7.96l-1.37-1.37c-.4-.4-.92-.59-1.43-.59-.52 0-1.04.2-1.43.59L10.3 9.45l-7.72 7.72c-.78.78-.78 2.05 0 2.83L4 21.41c.39.39.9.59 1.41.59.51 0 1.02-.2 1.41-.59l7.78-7.78 2.81-2.81c.8-.78.8-2.07 0-2.86zM5.41 20L4 18.59l7.72-7.72 1.47 1.35L5.41 20z\"/>\n",
              "  </svg>\n",
              "      </button>\n",
              "      \n",
              "  <style>\n",
              "    .colab-df-container {\n",
              "      display:flex;\n",
              "      flex-wrap:wrap;\n",
              "      gap: 12px;\n",
              "    }\n",
              "\n",
              "    .colab-df-convert {\n",
              "      background-color: #E8F0FE;\n",
              "      border: none;\n",
              "      border-radius: 50%;\n",
              "      cursor: pointer;\n",
              "      display: none;\n",
              "      fill: #1967D2;\n",
              "      height: 32px;\n",
              "      padding: 0 0 0 0;\n",
              "      width: 32px;\n",
              "    }\n",
              "\n",
              "    .colab-df-convert:hover {\n",
              "      background-color: #E2EBFA;\n",
              "      box-shadow: 0px 1px 2px rgba(60, 64, 67, 0.3), 0px 1px 3px 1px rgba(60, 64, 67, 0.15);\n",
              "      fill: #174EA6;\n",
              "    }\n",
              "\n",
              "    [theme=dark] .colab-df-convert {\n",
              "      background-color: #3B4455;\n",
              "      fill: #D2E3FC;\n",
              "    }\n",
              "\n",
              "    [theme=dark] .colab-df-convert:hover {\n",
              "      background-color: #434B5C;\n",
              "      box-shadow: 0px 1px 3px 1px rgba(0, 0, 0, 0.15);\n",
              "      filter: drop-shadow(0px 1px 2px rgba(0, 0, 0, 0.3));\n",
              "      fill: #FFFFFF;\n",
              "    }\n",
              "  </style>\n",
              "\n",
              "      <script>\n",
              "        const buttonEl =\n",
              "          document.querySelector('#df-58a8c560-0d77-4ad4-b937-5001c3e16fd0 button.colab-df-convert');\n",
              "        buttonEl.style.display =\n",
              "          google.colab.kernel.accessAllowed ? 'block' : 'none';\n",
              "\n",
              "        async function convertToInteractive(key) {\n",
              "          const element = document.querySelector('#df-58a8c560-0d77-4ad4-b937-5001c3e16fd0');\n",
              "          const dataTable =\n",
              "            await google.colab.kernel.invokeFunction('convertToInteractive',\n",
              "                                                     [key], {});\n",
              "          if (!dataTable) return;\n",
              "\n",
              "          const docLinkHtml = 'Like what you see? Visit the ' +\n",
              "            '<a target=\"_blank\" href=https://colab.research.google.com/notebooks/data_table.ipynb>data table notebook</a>'\n",
              "            + ' to learn more about interactive tables.';\n",
              "          element.innerHTML = '';\n",
              "          dataTable['output_type'] = 'display_data';\n",
              "          await google.colab.output.renderOutput(dataTable, element);\n",
              "          const docLink = document.createElement('div');\n",
              "          docLink.innerHTML = docLinkHtml;\n",
              "          element.appendChild(docLink);\n",
              "        }\n",
              "      </script>\n",
              "    </div>\n",
              "  </div>\n",
              "  "
            ]
          },
          "metadata": {},
          "execution_count": 10
        }
      ]
    },
    {
      "cell_type": "code",
      "source": [
        "\n",
        "\n",
        "df_group_by_week = df.groupby(['year','month','week','country','product','store']).agg({'num_sold': 'sum'}).reset_index()\n",
        "df_week = pd.DataFrame(data=df_group_by_week)\n",
        "unique_week  = set(df_week['week'].to_list())\n",
        "countries = ['Finland', 'Norway', 'Sweden']\n",
        "stores = ['KaggleMart', 'KaggleRama']\n",
        "products = ['Kaggle Hat', 'Kaggle Mug', 'Kaggle Sticker']\n",
        "for week in unique_week:\n",
        "  for country in countries:\n",
        "    for store in stores:\n",
        "      for product in products:\n",
        "        df_by_week = df_week.loc[(df_week['week'] == week) & (df_week['country'] == country) & (df_week['store'] == store) & (df_week['product'] == product)]\n",
        "        df_by_week.to_csv('week_'+str(week)+'_'+country+'_'+store+'_'+product+'.csv')\n"
      ],
      "metadata": {
        "id": "swJK7gq9-w88"
      },
      "execution_count": null,
      "outputs": []
    },
    {
      "cell_type": "code",
      "source": [
        "\n",
        "df_group_by_week = df.groupby(['year','month','week','country','product','store']).agg({'num_sold': 'sum'}).reset_index()\n",
        "df_week = pd.DataFrame(data=df_group_by_week)\n",
        "unique_week  = set(df_week['week'].to_list())\n",
        "countries = ['Finland', 'Norway', 'Sweden']\n",
        "stores = ['KaggleMart', 'KaggleRama']\n",
        "products = ['Kaggle Hat', 'Kaggle Mug', 'Kaggle Sticker']\n",
        "for week in unique_week:\n",
        "  for country in countries:\n",
        "    for store in stores:\n",
        "      for product in products:\n",
        "        df_by_week = df_week.loc[(df_week['week'] == week) & (df_week['country'] == country) & (df_week['store'] == store) & (df_week['product'] == product)]\n",
        "        df_by_week.to_csv(str(week)+'_'+country+'_'+store+'_'+product+'.csv')\n"
      ],
      "metadata": {
        "id": "ElXh0xwch8-t"
      },
      "execution_count": null,
      "outputs": []
    },
    {
      "cell_type": "code",
      "source": [
        "df_group_by_year = df.groupby(['year','country','product','store']).agg({'num_sold': 'sum'}).reset_index()\n",
        "df_year = pd.DataFrame(data=df_group_by_year)\n",
        "unique_year  = set(df_year['year'].to_list())\n",
        "countries = ['Finland', 'Norway', 'Sweden']\n",
        "stores = ['KaggleMart', 'KaggleRama']\n",
        "products = ['Kaggle Hat', 'Kaggle Mug', 'Kaggle Sticker']\n",
        "for year in unique_year:\n",
        "  for country in countries:\n",
        "    for store in stores:\n",
        "      for product in products:\n",
        "        df_by_year = df_year.loc[(df_year['year'] == year) & (df_year['country'] == country) & (df_year['store'] == store) & (df_year['product'] == product)]\n",
        "        df_by_year.to_csv('year_'+str(year)+'_'+country+'_'+store+'_'+product+'.csv')"
      ],
      "metadata": {
        "id": "C86Hao1Weqqy"
      },
      "execution_count": null,
      "outputs": []
    },
    {
      "cell_type": "code",
      "source": [
        "df_group_by_month = df.groupby(['year','month','country','product','store']).agg({'num_sold': 'sum'}).reset_index()\n",
        "df_month = pd.DataFrame(data=df_group_by_month)\n",
        "unique_month  = set(df_month['month'].to_list())\n",
        "countries = ['Finland', 'Norway', 'Sweden']\n",
        "stores = ['KaggleMart', 'KaggleRama']\n",
        "products = ['Kaggle Hat', 'Kaggle Mug', 'Kaggle Sticker']\n",
        "for month in unique_month:\n",
        "  for country in countries:\n",
        "    for store in stores:\n",
        "      for product in products:\n",
        "        df_by_month = df_month.loc[(df_month['month'] == month) & (df_month['country'] == country) & (df_month['store'] == store) & (df_month['product'] == product)]\n",
        "        df_by_month.to_csv('month_'+str(month)+'_'+country+'_'+store+'_'+product+'.csv')"
      ],
      "metadata": {
        "id": "LldOxAmxfYtt"
      },
      "execution_count": null,
      "outputs": []
    },
    {
      "cell_type": "code",
      "source": [
        "df_group_by_month = df.groupby(['year','month','country','product','store']).agg({'num_sold': 'sum'})\n",
        "unique_month  = set(df_['week'].to_list())\n",
        "pd.DataFrame(data=df_group_by_month).to_csv('data_by_month.csv')"
      ],
      "metadata": {
        "id": "AVhfiRDYGjjs",
        "colab": {
          "base_uri": "https://localhost:8080/",
          "height": 204
        },
        "outputId": "bfc5b8bb-0fb5-423a-e6c1-67230459807b"
      },
      "execution_count": null,
      "outputs": [
        {
          "output_type": "error",
          "ename": "NameError",
          "evalue": "ignored",
          "traceback": [
            "\u001b[0;31m---------------------------------------------------------------------------\u001b[0m",
            "\u001b[0;31mNameError\u001b[0m                                 Traceback (most recent call last)",
            "\u001b[0;32m<ipython-input-15-b77fa857e403>\u001b[0m in \u001b[0;36m<module>\u001b[0;34m\u001b[0m\n\u001b[1;32m      1\u001b[0m \u001b[0mdf_group_by_month\u001b[0m \u001b[0;34m=\u001b[0m \u001b[0mdf\u001b[0m\u001b[0;34m.\u001b[0m\u001b[0mgroupby\u001b[0m\u001b[0;34m(\u001b[0m\u001b[0;34m[\u001b[0m\u001b[0;34m'year'\u001b[0m\u001b[0;34m,\u001b[0m\u001b[0;34m'month'\u001b[0m\u001b[0;34m,\u001b[0m\u001b[0;34m'country'\u001b[0m\u001b[0;34m,\u001b[0m\u001b[0;34m'product'\u001b[0m\u001b[0;34m,\u001b[0m\u001b[0;34m'store'\u001b[0m\u001b[0;34m]\u001b[0m\u001b[0;34m)\u001b[0m\u001b[0;34m.\u001b[0m\u001b[0magg\u001b[0m\u001b[0;34m(\u001b[0m\u001b[0;34m{\u001b[0m\u001b[0;34m'num_sold'\u001b[0m\u001b[0;34m:\u001b[0m \u001b[0;34m'sum'\u001b[0m\u001b[0;34m}\u001b[0m\u001b[0;34m)\u001b[0m\u001b[0;34m\u001b[0m\u001b[0;34m\u001b[0m\u001b[0m\n\u001b[0;32m----> 2\u001b[0;31m \u001b[0munique_month\u001b[0m  \u001b[0;34m=\u001b[0m \u001b[0mset\u001b[0m\u001b[0;34m(\u001b[0m\u001b[0mdf_\u001b[0m\u001b[0;34m[\u001b[0m\u001b[0;34m'week'\u001b[0m\u001b[0;34m]\u001b[0m\u001b[0;34m.\u001b[0m\u001b[0mto_list\u001b[0m\u001b[0;34m(\u001b[0m\u001b[0;34m)\u001b[0m\u001b[0;34m)\u001b[0m\u001b[0;34m\u001b[0m\u001b[0;34m\u001b[0m\u001b[0m\n\u001b[0m\u001b[1;32m      3\u001b[0m \u001b[0mpd\u001b[0m\u001b[0;34m.\u001b[0m\u001b[0mDataFrame\u001b[0m\u001b[0;34m(\u001b[0m\u001b[0mdata\u001b[0m\u001b[0;34m=\u001b[0m\u001b[0mdf_group_by_month\u001b[0m\u001b[0;34m)\u001b[0m\u001b[0;34m.\u001b[0m\u001b[0mto_csv\u001b[0m\u001b[0;34m(\u001b[0m\u001b[0;34m'data_by_month.csv'\u001b[0m\u001b[0;34m)\u001b[0m\u001b[0;34m\u001b[0m\u001b[0;34m\u001b[0m\u001b[0m\n",
            "\u001b[0;31mNameError\u001b[0m: name 'df_' is not defined"
          ]
        }
      ]
    },
    {
      "cell_type": "code",
      "source": [
        "df_group_by_year = df.groupby(['year','country','product','store']).agg({'num_sold': 'sum'})\n",
        "pd.DataFrame(data=df_group_by_year).to_csv('data_by_year.csv')"
      ],
      "metadata": {
        "id": "0lYV1EtOIFE5"
      },
      "execution_count": null,
      "outputs": []
    },
    {
      "cell_type": "code",
      "source": [
        "!pwd"
      ],
      "metadata": {
        "id": "yrWO_ryXiV84"
      },
      "execution_count": null,
      "outputs": []
    },
    {
      "cell_type": "code",
      "source": [
        "!ls"
      ],
      "metadata": {
        "id": "ZiMc85Z9iXGl"
      },
      "execution_count": null,
      "outputs": []
    },
    {
      "cell_type": "code",
      "source": [
        "!rm data_by_year.csv"
      ],
      "metadata": {
        "id": "jDGTP0YoiLvf"
      },
      "execution_count": null,
      "outputs": []
    },
    {
      "cell_type": "code",
      "source": [
        "!zip -r dataset.zip . --ignore=sample_data\n"
      ],
      "metadata": {
        "id": "hHdvVhQFiX_y"
      },
      "execution_count": null,
      "outputs": []
    },
    {
      "cell_type": "code",
      "source": [
        "!ls *.zip"
      ],
      "metadata": {
        "id": "b6GEeQYzigOm"
      },
      "execution_count": null,
      "outputs": []
    },
    {
      "cell_type": "code",
      "source": [
        "# week_{{number}}_{{country_name}}_{kaggle_outlet}_{merchandise}.csv"
      ],
      "metadata": {
        "id": "3T8UV9QKirJq"
      },
      "execution_count": null,
      "outputs": []
    }
  ]
}